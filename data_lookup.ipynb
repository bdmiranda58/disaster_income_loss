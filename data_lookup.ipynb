{
 "cells": [
  {
   "cell_type": "markdown",
   "metadata": {},
   "source": [
    "#### Notebook Description\n",
    "\n",
    "\n",
    "## Index\n"
   ]
  },
  {
   "cell_type": "code",
   "execution_count": 3,
   "metadata": {},
   "outputs": [],
   "source": [
    "import pandas as pd\n"
   ]
  },
  {
   "cell_type": "code",
   "execution_count": 4,
   "metadata": {},
   "outputs": [],
   "source": [
    "df_incomes = pd.read_csv('./Data/zip_income_3col')\n",
    "df_incomes = df_incomes.drop('Unnamed: 0', axis=1)"
   ]
  },
  {
   "cell_type": "code",
   "execution_count": 5,
   "metadata": {},
   "outputs": [],
   "source": [
    "df_pops = pd.read_csv('./Data/pop-by-zip-code.csv')\n",
    "df_pops = df_pops[['zip_code', 'y-2016']]"
   ]
  },
  {
   "cell_type": "code",
   "execution_count": 6,
   "metadata": {},
   "outputs": [],
   "source": [
    "not_in_pops = [i for i in df_incomes['zipcode'] if i not in df_pops['zip_code']]\n",
    "in_both = [i for i in df_incomes['zipcode'] if i in df_pops['zip_code']]\n",
    "not_in_incomes = [i for i in df_pops['zip_code'] if i not in df_incomes['zipcode']]"
   ]
  },
  {
   "cell_type": "code",
   "execution_count": 7,
   "metadata": {
    "scrolled": true
   },
   "outputs": [
    {
     "data": {
      "text/plain": [
       "(23549, 20132, 9842)"
      ]
     },
     "execution_count": 7,
     "metadata": {},
     "output_type": "execute_result"
    }
   ],
   "source": [
    "len(not_in_incomes),len(not_in_pops),len(in_both)"
   ]
  },
  {
   "cell_type": "markdown",
   "metadata": {},
   "source": [
    "### Input Zip Codes\n",
    "\n",
    "Get list of zip codes to return data from."
   ]
  },
  {
   "cell_type": "code",
   "execution_count": 34,
   "metadata": {
    "scrolled": true
   },
   "outputs": [
    {
     "name": "stdout",
     "output_type": "stream",
     "text": [
      "Enter zip codes for review.  When all are added, type done as input.\n",
      "Zip code: 36005\n",
      "Zip code: 36006\n",
      "Zip code: don\n",
      "Invalid zip code entered or database is missing information for this code.\n",
      "Zip code: done\n"
     ]
    },
    {
     "data": {
      "text/html": [
       "<div>\n",
       "<style scoped>\n",
       "    .dataframe tbody tr th:only-of-type {\n",
       "        vertical-align: middle;\n",
       "    }\n",
       "\n",
       "    .dataframe tbody tr th {\n",
       "        vertical-align: top;\n",
       "    }\n",
       "\n",
       "    .dataframe thead th {\n",
       "        text-align: right;\n",
       "    }\n",
       "</style>\n",
       "<table border=\"1\" class=\"dataframe\">\n",
       "  <thead>\n",
       "    <tr style=\"text-align: right;\">\n",
       "      <th></th>\n",
       "      <th>zipcode</th>\n",
       "      <th>income</th>\n",
       "      <th>state</th>\n",
       "      <th>population</th>\n",
       "    </tr>\n",
       "  </thead>\n",
       "  <tbody>\n",
       "    <tr>\n",
       "      <th>0</th>\n",
       "      <td>36005.0</td>\n",
       "      <td>28829.0</td>\n",
       "      <td>AL</td>\n",
       "      <td>1680.0</td>\n",
       "    </tr>\n",
       "    <tr>\n",
       "      <th>1</th>\n",
       "      <td>36006.0</td>\n",
       "      <td>24941.0</td>\n",
       "      <td>AL</td>\n",
       "      <td>1342.0</td>\n",
       "    </tr>\n",
       "  </tbody>\n",
       "</table>\n",
       "</div>"
      ],
      "text/plain": [
       "   zipcode   income state  population\n",
       "0  36005.0  28829.0    AL      1680.0\n",
       "1  36006.0  24941.0    AL      1342.0"
      ]
     },
     "execution_count": 34,
     "metadata": {},
     "output_type": "execute_result"
    }
   ],
   "source": [
    "output_dict = {'zipcode': {},\n",
    "               'income': {},\n",
    "               'state': {},\n",
    "               'population': {}}\n",
    "output_df = pd.DataFrame(output_dict)\n",
    "print('Enter zip codes for review.  When all are added, type done as input.')\n",
    "while True:\n",
    "    new_zip = input('Zip code: ')\n",
    "    if new_zip.lower() == 'done':\n",
    "        break\n",
    "    try:\n",
    "        output_df = output_df.append(df_incomes[(df_incomes.zipcode==int(new_zip))], sort=False)\n",
    "        pop = df_pops.loc[df_pops['zip_code'] == int(new_zip), ['y-2016']].values[0]\n",
    "        output_df.loc[output_df['zipcode'] == int(new_zip), ['population']] = pop\n",
    "    except:\n",
    "        print('Invalid zip code entered or database is missing information for this code.')\n",
    "output_df = output_df.reset_index(drop=True)\n",
    "output_df"
   ]
  },
  {
   "cell_type": "markdown",
   "metadata": {},
   "source": [
    "### Visualization\n",
    "\n",
    "Graphic to show which zip codes were selected."
   ]
  },
  {
   "cell_type": "code",
   "execution_count": null,
   "metadata": {},
   "outputs": [],
   "source": []
  },
  {
   "cell_type": "markdown",
   "metadata": {},
   "source": [
    "###  Analysis output\n",
    "1. Sum total income lost among all zip codes\n",
    "2. Sum total population affected\n",
    "3. List all states affected"
   ]
  },
  {
   "cell_type": "code",
   "execution_count": 9,
   "metadata": {},
   "outputs": [],
   "source": [
    "def summary(output):\n",
    "    print('average income per zip code : ' + str(output['income'].mean()))\n",
    "    print('median income per zip code : ' + str(output['income'].median()))\n",
    "    print('states concerned : ' + str(output['state'].unique()))\n",
    "    print('mean population per zip code : ' + str(output['population'].mean()))    \n",
    "    print('median population per zip code : ' + str(output['population'].median()))"
   ]
  },
  {
   "cell_type": "code",
   "execution_count": 10,
   "metadata": {},
   "outputs": [
    {
     "name": "stdout",
     "output_type": "stream",
     "text": [
      "average income per zip code : 28829.0\n",
      "median income per zip code : 28829.0\n",
      "states concerned : ['AL']\n",
      "mean population per zip code : 1680.0\n",
      "median population per zip code : 1680.0\n"
     ]
    }
   ],
   "source": [
    "summary(output_df)"
   ]
  },
  {
   "cell_type": "markdown",
   "metadata": {},
   "source": [
    "### Getting counties corresponding to each zip code"
   ]
  },
  {
   "cell_type": "markdown",
   "metadata": {},
   "source": [
    "dada import, selection and getting the county str out of the county feature because unnecessary"
   ]
  },
  {
   "cell_type": "code",
   "execution_count": 48,
   "metadata": {
    "scrolled": true
   },
   "outputs": [],
   "source": [
    "zip_to_counties = pd.read_csv('./Data/zip_to_counties.csv')\n",
    "zip_to_counties.drop(zip_to_counties.columns[2:],axis=1,inplace = True)\n",
    "zip_to_counties.columns = ['zipcode','county']\n",
    "zip_to_counties['county'] = zip_to_counties['county'].str.replace(' County','')"
   ]
  },
  {
   "cell_type": "markdown",
   "metadata": {},
   "source": [
    "Once again just to look how many zip codes are common in our dataframes, on 9842 common zip codes for our two dataframes df_incomes and df_pops we have 9751 common ones with zip_to_counties. This could indicate that the zipcodes they have in common are important. "
   ]
  },
  {
   "cell_type": "code",
   "execution_count": 49,
   "metadata": {},
   "outputs": [
    {
     "data": {
      "text/plain": [
       "(13095, 9751)"
      ]
     },
     "execution_count": 49,
     "metadata": {},
     "output_type": "execute_result"
    }
   ],
   "source": [
    "commons = [i for i in zip_to_counties['zipcode'] if i in df_incomes['zipcode']]\n",
    "commons_to_all = [i for i in zip_to_counties['zipcode'] if i in in_both]\n",
    "len(commons),len(set(commons_to_all))"
   ]
  },
  {
   "cell_type": "code",
   "execution_count": 50,
   "metadata": {},
   "outputs": [],
   "source": [
    "def get_counties(output):\n",
    "    list_of_counties = [ list(zip_to_counties[zip_to_counties['zipcode'] == i]['county']) for i in output['zipcode'] ]\n",
    "    output['counties'] = list_of_counties"
   ]
  },
  {
   "cell_type": "code",
   "execution_count": 51,
   "metadata": {},
   "outputs": [],
   "source": [
    "get_counties(output_df)"
   ]
  },
  {
   "cell_type": "code",
   "execution_count": 52,
   "metadata": {},
   "outputs": [
    {
     "data": {
      "text/html": [
       "<div>\n",
       "<style scoped>\n",
       "    .dataframe tbody tr th:only-of-type {\n",
       "        vertical-align: middle;\n",
       "    }\n",
       "\n",
       "    .dataframe tbody tr th {\n",
       "        vertical-align: top;\n",
       "    }\n",
       "\n",
       "    .dataframe thead th {\n",
       "        text-align: right;\n",
       "    }\n",
       "</style>\n",
       "<table border=\"1\" class=\"dataframe\">\n",
       "  <thead>\n",
       "    <tr style=\"text-align: right;\">\n",
       "      <th></th>\n",
       "      <th>zipcode</th>\n",
       "      <th>income</th>\n",
       "      <th>state</th>\n",
       "      <th>population</th>\n",
       "      <th>counties</th>\n",
       "    </tr>\n",
       "  </thead>\n",
       "  <tbody>\n",
       "    <tr>\n",
       "      <th>0</th>\n",
       "      <td>36005.0</td>\n",
       "      <td>28829.0</td>\n",
       "      <td>AL</td>\n",
       "      <td>1680.0</td>\n",
       "      <td>[Bullock, Pike]</td>\n",
       "    </tr>\n",
       "    <tr>\n",
       "      <th>1</th>\n",
       "      <td>36006.0</td>\n",
       "      <td>24941.0</td>\n",
       "      <td>AL</td>\n",
       "      <td>1342.0</td>\n",
       "      <td>[Autauga, Chilton]</td>\n",
       "    </tr>\n",
       "  </tbody>\n",
       "</table>\n",
       "</div>"
      ],
      "text/plain": [
       "   zipcode   income state  population            counties\n",
       "0  36005.0  28829.0    AL      1680.0     [Bullock, Pike]\n",
       "1  36006.0  24941.0    AL      1342.0  [Autauga, Chilton]"
      ]
     },
     "execution_count": 52,
     "metadata": {},
     "output_type": "execute_result"
    }
   ],
   "source": [
    "output_df"
   ]
  },
  {
   "cell_type": "code",
   "execution_count": null,
   "metadata": {},
   "outputs": [],
   "source": []
  },
  {
   "cell_type": "code",
   "execution_count": null,
   "metadata": {},
   "outputs": [],
   "source": []
  },
  {
   "cell_type": "code",
   "execution_count": null,
   "metadata": {},
   "outputs": [],
   "source": []
  }
 ],
 "metadata": {
  "kernelspec": {
   "display_name": "Python [default]",
   "language": "python",
   "name": "python3"
  },
  "language_info": {
   "codemirror_mode": {
    "name": "ipython",
    "version": 3
   },
   "file_extension": ".py",
   "mimetype": "text/x-python",
   "name": "python",
   "nbconvert_exporter": "python",
   "pygments_lexer": "ipython3",
   "version": "3.6.5"
  }
 },
 "nbformat": 4,
 "nbformat_minor": 2
}
