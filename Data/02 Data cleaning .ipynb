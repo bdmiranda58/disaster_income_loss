{
 "cells": [
  {
   "cell_type": "markdown",
   "metadata": {},
   "source": [
    "# 02 Data cleaning \n",
    "\n",
    "#### Python Requirements\n",
    "Code written in Python 3.7, libraries required includes pandas and os only \n",
    "\n",
    "## Index Links\n",
    "- [Import and clean zipcodes/counties related datasets](#Import-an-clean-zipcodes/counties-related-datasets )\n",
    "- [Centroids of zipcodes latitude longitude](#Centroids-of-zipcodes-latitude-longitude)\n",
    "- [State related datasets](#State-related-datasets )\n",
    "- [Merging DataFrames with common zipcodes](#Merging-DataFrames-with-common-zipcodes)"
   ]
  },
  {
   "cell_type": "code",
   "execution_count": 33,
   "metadata": {},
   "outputs": [],
   "source": [
    "import pandas as pd"
   ]
  },
  {
   "cell_type": "markdown",
   "metadata": {},
   "source": [
    "## Import and clean zipcodes/counties related datasets \n",
    "---------------"
   ]
  },
  {
   "cell_type": "code",
   "execution_count": 34,
   "metadata": {},
   "outputs": [
    {
     "data": {
      "text/plain": [
       "['zipcode', 'tot_income', 'state']"
      ]
     },
     "execution_count": 34,
     "metadata": {},
     "output_type": "execute_result"
    }
   ],
   "source": [
    "df_incomes = pd.read_csv('./Data/zip_income.csv')\n",
    "df_incomes = df_incomes.drop('Unnamed: 0', axis=1)\n",
    "df_incomes.rename(columns = {'income':'tot_income'}, inplace = True)\n",
    "list(df_incomes.columns)"
   ]
  },
  {
   "cell_type": "code",
   "execution_count": 35,
   "metadata": {},
   "outputs": [
    {
     "data": {
      "text/plain": [
       "['zipcode', 'population']"
      ]
     },
     "execution_count": 35,
     "metadata": {},
     "output_type": "execute_result"
    }
   ],
   "source": [
    "df_pops = pd.read_csv('./Data/zip_population.csv')\n",
    "df_pops = df_pops[['zip_code', 'y-2016']]\n",
    "df_pops.rename(columns={'zip_code':'zipcode','y-2016':'population'},inplace = True)\n",
    "list(df_pops.columns)"
   ]
  },
  {
   "cell_type": "code",
   "execution_count": 36,
   "metadata": {},
   "outputs": [
    {
     "data": {
      "text/plain": [
       "['zipcode', 'city', 'lat', 'long']"
      ]
     },
     "execution_count": 36,
     "metadata": {},
     "output_type": "execute_result"
    }
   ],
   "source": [
    "df_longlat = pd.read_csv('./Data/zip_cities.csv')\n",
    "df_longlat = df_longlat[['Zipcode', 'City', 'Lat', 'Long']]\n",
    "df_longlat = df_longlat.dropna()\n",
    "df_longlat.rename(index=str, columns={'Zipcode': 'zipcode', 'Long': 'long', 'Lat': 'lat','City':'city'}, inplace=True)\n",
    "list(df_longlat.columns)"
   ]
  },
  {
   "cell_type": "code",
   "execution_count": 37,
   "metadata": {},
   "outputs": [
    {
     "data": {
      "text/plain": [
       "['zipcode', 'county']"
      ]
     },
     "execution_count": 37,
     "metadata": {},
     "output_type": "execute_result"
    }
   ],
   "source": [
    "df_counties = pd.read_csv('./Data/zip_counties.csv')\n",
    "df_counties.drop(df_counties.columns[2:],axis=1,inplace = True)\n",
    "df_counties.columns = ['zipcode','county']\n",
    "df_counties['county'] = df_counties['county'].str.replace(' County','')\n",
    "list(df_counties.columns)"
   ]
  },
  {
   "cell_type": "markdown",
   "metadata": {},
   "source": [
    "## Getting positional centroids of all zipcodes \n",
    "-------------------"
   ]
  },
  {
   "cell_type": "markdown",
   "metadata": {},
   "source": [
    "We commented this part in order to not insert 340Mb file in our github download. For reference : https://github.com/OpenDataDE/State-zip-code-GeoJSON"
   ]
  },
  {
   "cell_type": "markdown",
   "metadata": {},
   "source": [
    "This initial file returned a boundarie for each zipcode under the form of a large aray. We chose to only keep the centroids (middle position) of the boundaries instead of this huge array. "
   ]
  },
  {
   "cell_type": "code",
   "execution_count": 38,
   "metadata": {},
   "outputs": [],
   "source": [
    "import os"
   ]
  },
  {
   "cell_type": "code",
   "execution_count": 39,
   "metadata": {},
   "outputs": [],
   "source": [
    "#extensions = [f for f in os.listdir('./State-zip-code-GeoJSON-master/') if f.endswith('.json')]\n",
    "#extension_names = [f[:2].upper() for f in os.listdir('./State-zip-code-GeoJSON-master/') if f.endswith('.json')]"
   ]
  },
  {
   "cell_type": "code",
   "execution_count": 40,
   "metadata": {},
   "outputs": [],
   "source": [
    "def getting_centroids(extension,extension_name):\n",
    "    dataframe = pd.read_json('./State-zip-code-GeoJSON-master/'+extension)\n",
    "    centroids = []\n",
    "    for index in range(dataframe.shape[0]) : \n",
    "        zipcode = dataframe['features'][index]['properties']['ZCTA5CE10']\n",
    "        lat = dataframe['features'][index]['properties']['INTPTLAT10']\n",
    "        lon = dataframe['features'][index]['properties']['INTPTLON10']\n",
    "        centroids.append([zipcode,lat,lon,extension_name])\n",
    "\n",
    "    return centroids"
   ]
  },
  {
   "cell_type": "code",
   "execution_count": 41,
   "metadata": {},
   "outputs": [],
   "source": [
    "#flat_centroids = []\n",
    "\n",
    "#for sublist in [getting_centroids(extensions[i],extension_names[i]) for i in range(len(extensions))]:\n",
    "    #for item in sublist:\n",
    "        #flat_centroids.append(item)\n",
    "\n",
    "#df_centroids = pd.DataFrame(flat_centroids,columns = ['zipcode','lat','lon','state'])\n",
    "#df_centroids['zipcode'] = pd.to_numeric(df_centroids['zipcode'])\n",
    "#df_centroids['lat'] = pd.to_numeric(df_centroids['lat'])\n",
    "#df_centroids['lon'] = pd.to_numeric(df_centroids['lon'])"
   ]
  },
  {
   "cell_type": "markdown",
   "metadata": {},
   "source": [
    "## Getting positional centroids of all counties\n",
    "---------------------"
   ]
  },
  {
   "cell_type": "code",
   "execution_count": 42,
   "metadata": {},
   "outputs": [],
   "source": [
    "extensions = [f for f in os.listdir('./Data/USA/')]"
   ]
  },
  {
   "cell_type": "code",
   "execution_count": 43,
   "metadata": {},
   "outputs": [],
   "source": [
    "def getting_data(extensions):\n",
    "    to_go_for = './Data/USA/' + extensions\n",
    "    files_name  = [f for f in os.listdir(to_go_for)]\n",
    "    counties = []\n",
    "    names = []\n",
    "    for file_name in files_name : \n",
    "        file = dict(pd.read_json(to_go_for + '/' + file_name,typ='series'))\n",
    "        counties.append(file['features'][0])\n",
    "        names.append(extensions)\n",
    "    return counties,names"
   ]
  },
  {
   "cell_type": "code",
   "execution_count": 44,
   "metadata": {},
   "outputs": [],
   "source": [
    "names = [getting_data(i)[1] for i in extensions]\n",
    "dictionaries = [getting_data(i)[0] for i in extensions]"
   ]
  },
  {
   "cell_type": "code",
   "execution_count": 45,
   "metadata": {},
   "outputs": [],
   "source": [
    "flat_names = []\n",
    "for sublist in names:\n",
    "    for item in sublist:\n",
    "        flat_names.append(item)\n",
    "\n",
    "flat_dictionaries = []\n",
    "for sublist in dictionaries:\n",
    "    for item in sublist:\n",
    "        flat_dictionaries.append(item)\n"
   ]
  },
  {
   "cell_type": "code",
   "execution_count": 46,
   "metadata": {},
   "outputs": [],
   "source": [
    "df_counties_centroids_temp  = pd.DataFrame([flat_names,flat_dictionaries])\n",
    "df_counties_centroids = df_counties_centroids_temp.T.copy()\n",
    "df_counties_centroids.columns = ['states','dictionaries']"
   ]
  },
  {
   "cell_type": "markdown",
   "metadata": {},
   "source": [
    "## Import state industry statistics datasets \n",
    "----------------------"
   ]
  },
  {
   "cell_type": "markdown",
   "metadata": {},
   "source": [
    "State data dictionary "
   ]
  },
  {
   "cell_type": "code",
   "execution_count": 47,
   "metadata": {},
   "outputs": [],
   "source": [
    "df_state_professions_description = pd.read_excel('./Data/occupation_description.xlsx')\n",
    "df_state_professions_description.drop([i for i in range(8)],inplace = True)\n",
    "df_state_professions_description.drop([41,42,43,44,45,46],inplace =True)\n",
    "df_state_professions_description.rename(columns = {'May 2017 OES Estimates':'acronym','Unnamed: 1':'description'},inplace = True)\n",
    "df_state_professions_description.set_index('acronym',inplace = True)"
   ]
  },
  {
   "cell_type": "code",
   "execution_count": 48,
   "metadata": {},
   "outputs": [],
   "source": [
    "df_state_professions = pd.read_excel('./Data/state_occupations.xlsx')\n",
    "df_state_professions.drop(['ANNUAL','HOURLY','STATE'],axis =1,inplace = True)\n",
    "df_state_professions_ram = df_state_professions[(df_state_professions['OCC_GROUP'] == 'major')|(df_state_professions['OCC_GROUP'] == 'total')].copy()\n",
    "df_state_professions_ram = df_state_professions_ram[['OCC_TITLE','ST','TOT_EMP','JOBS_1000','H_MEAN','A_MEAN','A_PCT10','A_PCT25','A_MEDIAN','A_PCT75','A_PCT90']]\n",
    "df_state_professions_ram['OCC_TITLE'] =df_state_professions_ram['OCC_TITLE'].str.replace(' Occupations', '')\n",
    "df_state_professions_ram.columns = ['occupation','state','tot_employement','perc','h_mean','annual_mean','10','25','med','75','90']"
   ]
  },
  {
   "cell_type": "markdown",
   "metadata": {},
   "source": [
    "## Merging DataFrames with common zipcodes \n",
    "----------------------"
   ]
  },
  {
   "cell_type": "code",
   "execution_count": 59,
   "metadata": {},
   "outputs": [],
   "source": [
    "df_centroids = pd.read_csv('./centroids.csv')"
   ]
  },
  {
   "cell_type": "code",
   "execution_count": 60,
   "metadata": {},
   "outputs": [],
   "source": [
    "set_inc = set(df_incomes['zipcode'])\n",
    "set_pop = set(df_pops['zipcode'])\n",
    "set_cou = set(df_counties['zipcode'])\n",
    "set_lon = set(df_longlat['zipcode'])\n",
    "set_cen = set(df_centroids['zipcode'])"
   ]
  },
  {
   "cell_type": "code",
   "execution_count": 61,
   "metadata": {},
   "outputs": [],
   "source": [
    "in_pops_and_incomes = [i for i in set_inc if i in set_pop]\n",
    "in_pops_incomes_and_counties = [i for i in set_cou if i in in_pops_and_incomes]\n",
    "in_all = [i for i in set_lon if i in in_pops_incomes_and_counties]"
   ]
  },
  {
   "cell_type": "code",
   "execution_count": 62,
   "metadata": {},
   "outputs": [],
   "source": [
    "first = pd.merge(df_incomes[df_incomes['zipcode'].isin(in_all)],df_pops[df_pops['zipcode'].isin(in_all)],on ='zipcode')\n",
    "second = pd.merge(first,df_longlat[df_longlat['zipcode'].isin(in_all)],on = 'zipcode')"
   ]
  },
  {
   "cell_type": "code",
   "execution_count": 63,
   "metadata": {},
   "outputs": [],
   "source": [
    "df_complete = pd.merge(second, df_counties[df_counties['zipcode'].isin(in_all)],on = 'zipcode')\n",
    "df_complete = df_complete.merge(df_centroids,on='zipcode')"
   ]
  },
  {
   "cell_type": "code",
   "execution_count": 64,
   "metadata": {},
   "outputs": [],
   "source": [
    "df_complete.drop(['lat_x','long','state_y'],axis =1,inplace = True)\n",
    "df_complete.columns = ['zipcode','tot_income','state','population','city','county','lat','lon']"
   ]
  },
  {
   "cell_type": "markdown",
   "metadata": {},
   "source": [
    "## Exporting our 4 clean datasets \n",
    "------------------"
   ]
  },
  {
   "cell_type": "code",
   "execution_count": 65,
   "metadata": {},
   "outputs": [
    {
     "data": {
      "text/html": [
       "<div>\n",
       "<style scoped>\n",
       "    .dataframe tbody tr th:only-of-type {\n",
       "        vertical-align: middle;\n",
       "    }\n",
       "\n",
       "    .dataframe tbody tr th {\n",
       "        vertical-align: top;\n",
       "    }\n",
       "\n",
       "    .dataframe thead th {\n",
       "        text-align: right;\n",
       "    }\n",
       "</style>\n",
       "<table border=\"1\" class=\"dataframe\">\n",
       "  <thead>\n",
       "    <tr style=\"text-align: right;\">\n",
       "      <th></th>\n",
       "      <th>zipcode</th>\n",
       "      <th>tot_income</th>\n",
       "      <th>population</th>\n",
       "      <th>city</th>\n",
       "      <th>county</th>\n",
       "    </tr>\n",
       "  </thead>\n",
       "  <tbody>\n",
       "    <tr>\n",
       "      <th>0</th>\n",
       "      <td>35004</td>\n",
       "      <td>290260</td>\n",
       "      <td>10418</td>\n",
       "      <td>MOODY</td>\n",
       "      <td>St. Clair</td>\n",
       "    </tr>\n",
       "    <tr>\n",
       "      <th>1</th>\n",
       "      <td>35005</td>\n",
       "      <td>121690</td>\n",
       "      <td>7708</td>\n",
       "      <td>ADAMSVILLE</td>\n",
       "      <td>Jefferson</td>\n",
       "    </tr>\n",
       "    <tr>\n",
       "      <th>2</th>\n",
       "      <td>35006</td>\n",
       "      <td>57418</td>\n",
       "      <td>3099</td>\n",
       "      <td>ADGER</td>\n",
       "      <td>Jefferson</td>\n",
       "    </tr>\n",
       "    <tr>\n",
       "      <th>3</th>\n",
       "      <td>35006</td>\n",
       "      <td>57418</td>\n",
       "      <td>3099</td>\n",
       "      <td>ADGER</td>\n",
       "      <td>Tuscaloosa</td>\n",
       "    </tr>\n",
       "    <tr>\n",
       "      <th>4</th>\n",
       "      <td>35006</td>\n",
       "      <td>57418</td>\n",
       "      <td>3099</td>\n",
       "      <td>ADGER</td>\n",
       "      <td>Walker</td>\n",
       "    </tr>\n",
       "  </tbody>\n",
       "</table>\n",
       "</div>"
      ],
      "text/plain": [
       "   zipcode  tot_income  population        city      county\n",
       "0    35004      290260       10418       MOODY   St. Clair\n",
       "1    35005      121690        7708  ADAMSVILLE   Jefferson\n",
       "2    35006       57418        3099       ADGER   Jefferson\n",
       "3    35006       57418        3099       ADGER  Tuscaloosa\n",
       "4    35006       57418        3099       ADGER      Walker"
      ]
     },
     "execution_count": 65,
     "metadata": {},
     "output_type": "execute_result"
    }
   ],
   "source": [
    "df_complete.drop(['state','lat','lon'],axis = 1).head()"
   ]
  },
  {
   "cell_type": "code",
   "execution_count": 66,
   "metadata": {},
   "outputs": [
    {
     "data": {
      "text/html": [
       "<div>\n",
       "<style scoped>\n",
       "    .dataframe tbody tr th:only-of-type {\n",
       "        vertical-align: middle;\n",
       "    }\n",
       "\n",
       "    .dataframe tbody tr th {\n",
       "        vertical-align: top;\n",
       "    }\n",
       "\n",
       "    .dataframe thead th {\n",
       "        text-align: right;\n",
       "    }\n",
       "</style>\n",
       "<table border=\"1\" class=\"dataframe\">\n",
       "  <thead>\n",
       "    <tr style=\"text-align: right;\">\n",
       "      <th></th>\n",
       "      <th>occupation</th>\n",
       "      <th>state</th>\n",
       "      <th>tot_employement</th>\n",
       "      <th>perc</th>\n",
       "      <th>h_mean</th>\n",
       "      <th>annual_mean</th>\n",
       "      <th>10</th>\n",
       "      <th>25</th>\n",
       "      <th>med</th>\n",
       "      <th>75</th>\n",
       "      <th>90</th>\n",
       "    </tr>\n",
       "  </thead>\n",
       "  <tbody>\n",
       "    <tr>\n",
       "      <th>0</th>\n",
       "      <td>All</td>\n",
       "      <td>AL</td>\n",
       "      <td>1922570</td>\n",
       "      <td>1000</td>\n",
       "      <td>20.76</td>\n",
       "      <td>43170</td>\n",
       "      <td>17770</td>\n",
       "      <td>21740</td>\n",
       "      <td>32800</td>\n",
       "      <td>52020</td>\n",
       "      <td>78690</td>\n",
       "    </tr>\n",
       "    <tr>\n",
       "      <th>1</th>\n",
       "      <td>Management</td>\n",
       "      <td>AL</td>\n",
       "      <td>69950</td>\n",
       "      <td>36.385</td>\n",
       "      <td>53.44</td>\n",
       "      <td>111150</td>\n",
       "      <td>52130</td>\n",
       "      <td>70130</td>\n",
       "      <td>96980</td>\n",
       "      <td>133360</td>\n",
       "      <td>188860</td>\n",
       "    </tr>\n",
       "    <tr>\n",
       "      <th>34</th>\n",
       "      <td>Business and Financial Operations</td>\n",
       "      <td>AL</td>\n",
       "      <td>73110</td>\n",
       "      <td>38.028</td>\n",
       "      <td>34.33</td>\n",
       "      <td>71410</td>\n",
       "      <td>35870</td>\n",
       "      <td>47780</td>\n",
       "      <td>64350</td>\n",
       "      <td>86530</td>\n",
       "      <td>111310</td>\n",
       "    </tr>\n",
       "    <tr>\n",
       "      <th>63</th>\n",
       "      <td>Computer and Mathematical</td>\n",
       "      <td>AL</td>\n",
       "      <td>39760</td>\n",
       "      <td>20.68</td>\n",
       "      <td>39.36</td>\n",
       "      <td>81870</td>\n",
       "      <td>42150</td>\n",
       "      <td>56630</td>\n",
       "      <td>77590</td>\n",
       "      <td>102020</td>\n",
       "      <td>128500</td>\n",
       "    </tr>\n",
       "    <tr>\n",
       "      <th>79</th>\n",
       "      <td>Architecture and Engineering</td>\n",
       "      <td>AL</td>\n",
       "      <td>43010</td>\n",
       "      <td>22.37</td>\n",
       "      <td>42.41</td>\n",
       "      <td>88220</td>\n",
       "      <td>43400</td>\n",
       "      <td>60530</td>\n",
       "      <td>83660</td>\n",
       "      <td>113840</td>\n",
       "      <td>141880</td>\n",
       "    </tr>\n",
       "    <tr>\n",
       "      <th>112</th>\n",
       "      <td>Life, Physical, and Social Science</td>\n",
       "      <td>AL</td>\n",
       "      <td>8260</td>\n",
       "      <td>4.295</td>\n",
       "      <td>31.11</td>\n",
       "      <td>64700</td>\n",
       "      <td>33570</td>\n",
       "      <td>42870</td>\n",
       "      <td>56330</td>\n",
       "      <td>78040</td>\n",
       "      <td>105730</td>\n",
       "    </tr>\n",
       "    <tr>\n",
       "      <th>144</th>\n",
       "      <td>Community and Social Service</td>\n",
       "      <td>AL</td>\n",
       "      <td>17980</td>\n",
       "      <td>9.352</td>\n",
       "      <td>21.11</td>\n",
       "      <td>43920</td>\n",
       "      <td>25450</td>\n",
       "      <td>32960</td>\n",
       "      <td>42040</td>\n",
       "      <td>54670</td>\n",
       "      <td>64110</td>\n",
       "    </tr>\n",
       "    <tr>\n",
       "      <th>161</th>\n",
       "      <td>Legal</td>\n",
       "      <td>AL</td>\n",
       "      <td>10080</td>\n",
       "      <td>5.245</td>\n",
       "      <td>41.86</td>\n",
       "      <td>87080</td>\n",
       "      <td>31140</td>\n",
       "      <td>43410</td>\n",
       "      <td>64360</td>\n",
       "      <td>114170</td>\n",
       "      <td>168640</td>\n",
       "    </tr>\n",
       "    <tr>\n",
       "      <th>170</th>\n",
       "      <td>Education, Training, and Library</td>\n",
       "      <td>AL</td>\n",
       "      <td>103290</td>\n",
       "      <td>53.724</td>\n",
       "      <td>22.87</td>\n",
       "      <td>47560</td>\n",
       "      <td>17880</td>\n",
       "      <td>27480</td>\n",
       "      <td>46290</td>\n",
       "      <td>58020</td>\n",
       "      <td>69650</td>\n",
       "    </tr>\n",
       "    <tr>\n",
       "      <th>227</th>\n",
       "      <td>Arts, Design, Entertainment, Sports, and Media</td>\n",
       "      <td>AL</td>\n",
       "      <td>17440</td>\n",
       "      <td>9.07</td>\n",
       "      <td>21.55</td>\n",
       "      <td>44820</td>\n",
       "      <td>18200</td>\n",
       "      <td>24090</td>\n",
       "      <td>35930</td>\n",
       "      <td>54630</td>\n",
       "      <td>78980</td>\n",
       "    </tr>\n",
       "    <tr>\n",
       "      <th>259</th>\n",
       "      <td>Healthcare Practitioners and Technical</td>\n",
       "      <td>AL</td>\n",
       "      <td>131410</td>\n",
       "      <td>68.352</td>\n",
       "      <td>33.62</td>\n",
       "      <td>69940</td>\n",
       "      <td>28850</td>\n",
       "      <td>39120</td>\n",
       "      <td>52530</td>\n",
       "      <td>73100</td>\n",
       "      <td>124610</td>\n",
       "    </tr>\n",
       "    <tr>\n",
       "      <th>316</th>\n",
       "      <td>Healthcare Support</td>\n",
       "      <td>AL</td>\n",
       "      <td>53300</td>\n",
       "      <td>27.725</td>\n",
       "      <td>12.74</td>\n",
       "      <td>26500</td>\n",
       "      <td>17700</td>\n",
       "      <td>20400</td>\n",
       "      <td>24110</td>\n",
       "      <td>29880</td>\n",
       "      <td>38330</td>\n",
       "    </tr>\n",
       "    <tr>\n",
       "      <th>333</th>\n",
       "      <td>Protective Service</td>\n",
       "      <td>AL</td>\n",
       "      <td>42410</td>\n",
       "      <td>22.058</td>\n",
       "      <td>17.84</td>\n",
       "      <td>37110</td>\n",
       "      <td>17950</td>\n",
       "      <td>22660</td>\n",
       "      <td>34270</td>\n",
       "      <td>47320</td>\n",
       "      <td>60710</td>\n",
       "    </tr>\n",
       "    <tr>\n",
       "      <th>354</th>\n",
       "      <td>Food Preparation and Serving Related</td>\n",
       "      <td>AL</td>\n",
       "      <td>173300</td>\n",
       "      <td>90.138</td>\n",
       "      <td>10.15</td>\n",
       "      <td>21110</td>\n",
       "      <td>16330</td>\n",
       "      <td>17340</td>\n",
       "      <td>19010</td>\n",
       "      <td>22860</td>\n",
       "      <td>29550</td>\n",
       "    </tr>\n",
       "    <tr>\n",
       "      <th>372</th>\n",
       "      <td>Building and Grounds Cleaning and Maintenance</td>\n",
       "      <td>AL</td>\n",
       "      <td>58870</td>\n",
       "      <td>30.62</td>\n",
       "      <td>11.91</td>\n",
       "      <td>24780</td>\n",
       "      <td>16890</td>\n",
       "      <td>18710</td>\n",
       "      <td>22370</td>\n",
       "      <td>28040</td>\n",
       "      <td>36950</td>\n",
       "    </tr>\n",
       "    <tr>\n",
       "      <th>382</th>\n",
       "      <td>Personal Care and Service</td>\n",
       "      <td>AL</td>\n",
       "      <td>48400</td>\n",
       "      <td>25.176</td>\n",
       "      <td>10.99</td>\n",
       "      <td>22860</td>\n",
       "      <td>16390</td>\n",
       "      <td>17470</td>\n",
       "      <td>19250</td>\n",
       "      <td>24600</td>\n",
       "      <td>35840</td>\n",
       "    </tr>\n",
       "    <tr>\n",
       "      <th>409</th>\n",
       "      <td>Sales and Related</td>\n",
       "      <td>AL</td>\n",
       "      <td>213670</td>\n",
       "      <td>111.139</td>\n",
       "      <td>16.52</td>\n",
       "      <td>34370</td>\n",
       "      <td>16690</td>\n",
       "      <td>18570</td>\n",
       "      <td>23720</td>\n",
       "      <td>38750</td>\n",
       "      <td>63110</td>\n",
       "    </tr>\n",
       "    <tr>\n",
       "      <th>429</th>\n",
       "      <td>Office and Administrative Support</td>\n",
       "      <td>AL</td>\n",
       "      <td>282400</td>\n",
       "      <td>146.888</td>\n",
       "      <td>16.31</td>\n",
       "      <td>33920</td>\n",
       "      <td>19420</td>\n",
       "      <td>23850</td>\n",
       "      <td>31090</td>\n",
       "      <td>40560</td>\n",
       "      <td>53240</td>\n",
       "    </tr>\n",
       "    <tr>\n",
       "      <th>482</th>\n",
       "      <td>Farming, Fishing, and Forestry</td>\n",
       "      <td>AL</td>\n",
       "      <td>5310</td>\n",
       "      <td>2.762</td>\n",
       "      <td>16.51</td>\n",
       "      <td>34340</td>\n",
       "      <td>19490</td>\n",
       "      <td>24180</td>\n",
       "      <td>31070</td>\n",
       "      <td>41190</td>\n",
       "      <td>52880</td>\n",
       "    </tr>\n",
       "    <tr>\n",
       "      <th>493</th>\n",
       "      <td>Construction and Extraction</td>\n",
       "      <td>AL</td>\n",
       "      <td>73870</td>\n",
       "      <td>38.421</td>\n",
       "      <td>19.6</td>\n",
       "      <td>40770</td>\n",
       "      <td>23610</td>\n",
       "      <td>29140</td>\n",
       "      <td>37380</td>\n",
       "      <td>49350</td>\n",
       "      <td>62480</td>\n",
       "    </tr>\n",
       "    <tr>\n",
       "      <th>544</th>\n",
       "      <td>Installation, Maintenance, and Repair</td>\n",
       "      <td>AL</td>\n",
       "      <td>90670</td>\n",
       "      <td>47.162</td>\n",
       "      <td>22.12</td>\n",
       "      <td>46010</td>\n",
       "      <td>24560</td>\n",
       "      <td>32220</td>\n",
       "      <td>42940</td>\n",
       "      <td>58170</td>\n",
       "      <td>73320</td>\n",
       "    </tr>\n",
       "    <tr>\n",
       "      <th>589</th>\n",
       "      <td>Production</td>\n",
       "      <td>AL</td>\n",
       "      <td>217870</td>\n",
       "      <td>113.321</td>\n",
       "      <td>16.73</td>\n",
       "      <td>34800</td>\n",
       "      <td>19150</td>\n",
       "      <td>23140</td>\n",
       "      <td>30510</td>\n",
       "      <td>42270</td>\n",
       "      <td>58360</td>\n",
       "    </tr>\n",
       "    <tr>\n",
       "      <th>687</th>\n",
       "      <td>Transportation and Material Moving</td>\n",
       "      <td>AL</td>\n",
       "      <td>148210</td>\n",
       "      <td>77.09</td>\n",
       "      <td>15.64</td>\n",
       "      <td>32540</td>\n",
       "      <td>17750</td>\n",
       "      <td>20910</td>\n",
       "      <td>28170</td>\n",
       "      <td>39200</td>\n",
       "      <td>54620</td>\n",
       "    </tr>\n",
       "  </tbody>\n",
       "</table>\n",
       "</div>"
      ],
      "text/plain": [
       "                                         occupation state tot_employement  \\\n",
       "0                                               All    AL         1922570   \n",
       "1                                        Management    AL           69950   \n",
       "34                Business and Financial Operations    AL           73110   \n",
       "63                        Computer and Mathematical    AL           39760   \n",
       "79                     Architecture and Engineering    AL           43010   \n",
       "112              Life, Physical, and Social Science    AL            8260   \n",
       "144                    Community and Social Service    AL           17980   \n",
       "161                                           Legal    AL           10080   \n",
       "170                Education, Training, and Library    AL          103290   \n",
       "227  Arts, Design, Entertainment, Sports, and Media    AL           17440   \n",
       "259          Healthcare Practitioners and Technical    AL          131410   \n",
       "316                              Healthcare Support    AL           53300   \n",
       "333                              Protective Service    AL           42410   \n",
       "354            Food Preparation and Serving Related    AL          173300   \n",
       "372   Building and Grounds Cleaning and Maintenance    AL           58870   \n",
       "382                       Personal Care and Service    AL           48400   \n",
       "409                               Sales and Related    AL          213670   \n",
       "429               Office and Administrative Support    AL          282400   \n",
       "482                  Farming, Fishing, and Forestry    AL            5310   \n",
       "493                     Construction and Extraction    AL           73870   \n",
       "544           Installation, Maintenance, and Repair    AL           90670   \n",
       "589                                      Production    AL          217870   \n",
       "687              Transportation and Material Moving    AL          148210   \n",
       "\n",
       "        perc h_mean annual_mean     10     25    med      75      90  \n",
       "0       1000  20.76       43170  17770  21740  32800   52020   78690  \n",
       "1     36.385  53.44      111150  52130  70130  96980  133360  188860  \n",
       "34    38.028  34.33       71410  35870  47780  64350   86530  111310  \n",
       "63     20.68  39.36       81870  42150  56630  77590  102020  128500  \n",
       "79     22.37  42.41       88220  43400  60530  83660  113840  141880  \n",
       "112    4.295  31.11       64700  33570  42870  56330   78040  105730  \n",
       "144    9.352  21.11       43920  25450  32960  42040   54670   64110  \n",
       "161    5.245  41.86       87080  31140  43410  64360  114170  168640  \n",
       "170   53.724  22.87       47560  17880  27480  46290   58020   69650  \n",
       "227     9.07  21.55       44820  18200  24090  35930   54630   78980  \n",
       "259   68.352  33.62       69940  28850  39120  52530   73100  124610  \n",
       "316   27.725  12.74       26500  17700  20400  24110   29880   38330  \n",
       "333   22.058  17.84       37110  17950  22660  34270   47320   60710  \n",
       "354   90.138  10.15       21110  16330  17340  19010   22860   29550  \n",
       "372    30.62  11.91       24780  16890  18710  22370   28040   36950  \n",
       "382   25.176  10.99       22860  16390  17470  19250   24600   35840  \n",
       "409  111.139  16.52       34370  16690  18570  23720   38750   63110  \n",
       "429  146.888  16.31       33920  19420  23850  31090   40560   53240  \n",
       "482    2.762  16.51       34340  19490  24180  31070   41190   52880  \n",
       "493   38.421   19.6       40770  23610  29140  37380   49350   62480  \n",
       "544   47.162  22.12       46010  24560  32220  42940   58170   73320  \n",
       "589  113.321  16.73       34800  19150  23140  30510   42270   58360  \n",
       "687    77.09  15.64       32540  17750  20910  28170   39200   54620  "
      ]
     },
     "execution_count": 66,
     "metadata": {},
     "output_type": "execute_result"
    }
   ],
   "source": [
    "df_state_professions_ram[df_state_professions_ram['state'] == 'AL']"
   ]
  },
  {
   "cell_type": "code",
   "execution_count": 68,
   "metadata": {},
   "outputs": [],
   "source": [
    "df_complete.to_csv('complete.csv',index = False)\n",
    "df_state_professions_ram.to_csv('industries.csv',index = False)\n",
    "df_centroids.to_csv('centroids.csv',index = False)\n",
    "df_counties_centroids.to_csv('counties.csv',index = False)"
   ]
  },
  {
   "cell_type": "code",
   "execution_count": null,
   "metadata": {},
   "outputs": [],
   "source": [
    "from sklearn.externals import joblib\n",
    "def test(x):\n",
    "    x += 2\n",
    "    return x\n",
    "\n",
    "joblib.dump(test,'test.csv') \n",
    "test_2 = joblib.load('test.csv')\n",
    "test_2(4)"
   ]
  }
 ],
 "metadata": {
  "kernelspec": {
   "display_name": "Python [conda env:dsi]",
   "language": "python",
   "name": "conda-env-dsi-py"
  },
  "language_info": {
   "codemirror_mode": {
    "name": "ipython",
    "version": 3
   },
   "file_extension": ".py",
   "mimetype": "text/x-python",
   "name": "python",
   "nbconvert_exporter": "python",
   "pygments_lexer": "ipython3",
   "version": "3.6.5"
  }
 },
 "nbformat": 4,
 "nbformat_minor": 2
}
