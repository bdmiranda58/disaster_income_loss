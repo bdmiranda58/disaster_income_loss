{
 "cells": [
  {
   "cell_type": "markdown",
   "metadata": {},
   "source": [
    "# Disaster Region Selection Tool\n",
    "_____________________________________________"
   ]
  },
  {
   "cell_type": "markdown",
   "metadata": {},
   "source": [
    "### Import libraries"
   ]
  },
  {
   "cell_type": "code",
   "execution_count": 1,
   "metadata": {},
   "outputs": [],
   "source": [
    "import pandas as pd\n",
    "import numpy as np\n",
    "import json\n",
    "import plotly.graph_objs as go\n",
    "from ipywidgets import interactive, HBox, VBox"
   ]
  },
  {
   "cell_type": "markdown",
   "metadata": {},
   "source": [
    "### Load data"
   ]
  },
  {
   "cell_type": "code",
   "execution_count": 2,
   "metadata": {},
   "outputs": [],
   "source": [
    "# income data\n",
    "income = pd.read_csv('./Data/complete.csv')\n",
    "\n",
    "# state occupation category statistics\n",
    "industries = pd.read_csv('./Data/state_summary')\n",
    "\n",
    "# county geojson\n",
    "counties = pd.read_csv('./Data/counties.csv')\n",
    "counties.drop([2014,2019,2023,2809],inplace = True)\n",
    "counties.reset_index(inplace = True,drop = True)\n",
    "counties['dictionaries'] = [json.loads(counties['dictionaries'][i].replace(\"'\", \"\\\"\")) for i in range(counties.shape[0])]\n",
    "\n",
    "# state centroids\n",
    "with open('./Data/state_centroids.json') as file:\n",
    "    state_cent = json.loads(file.read())"
   ]
  },
  {
   "cell_type": "markdown",
   "metadata": {},
   "source": [
    "_____________________________________________\n",
    "## Initialize Visualization\n",
    "#### Initialize on California"
   ]
  },
  {
   "cell_type": "code",
   "execution_count": 3,
   "metadata": {},
   "outputs": [],
   "source": [
    "mapbox_access_token = 'pk.eyJ1IjoiYmRtaXJhbmRhNTgiLCJhIjoiY2pxbGR6MHExMXJzbTN5bDJmODUxcGVqaiJ9.zatbYfSz-EQ8lTzXkd8LZA'"
   ]
  },
  {
   "cell_type": "code",
   "execution_count": 4,
   "metadata": {},
   "outputs": [],
   "source": [
    "state_selected = 'CA'\n",
    "\n",
    "# initialize state centroid \n",
    "state_selected_lat = state_cent[state_selected]['lat']\n",
    "state_selected_lon = state_cent[state_selected]['lon']\n",
    "\n",
    "# initialize dataframes \n",
    "income_state_selected = income[income['state'] == state_selected].sort_values(by='zipcode').reset_index(drop=True)\n",
    "industries_state_selected = industries[industries['state'] == state_selected]\n",
    "counties_state_selected = counties[counties['states'] == state_selected]\n",
    "\n",
    "# initialize lat/lon of zip codes in CA\n",
    "lats = income[income['state'] == 'CA']['lat']\n",
    "lons = income[income['state'] == 'CA']['lon']"
   ]
  },
  {
   "cell_type": "markdown",
   "metadata": {},
   "source": [
    "### Build Choropleth"
   ]
  },
  {
   "cell_type": "code",
   "execution_count": 5,
   "metadata": {
    "scrolled": false
   },
   "outputs": [
    {
     "data": {
      "application/vnd.jupyter.widget-view+json": {
       "model_id": "217d0f906f0e45b08d011c78dec6a565",
       "version_major": 2,
       "version_minor": 0
      },
      "text/plain": [
       "VBox(children=(HBox(children=(Dropdown(description='state_list', options=('AK', 'AL', 'AR', 'AZ', 'CA', 'CO', …"
      ]
     },
     "metadata": {},
     "output_type": "display_data"
    }
   ],
   "source": [
    "# build color palette\n",
    "colors = ['#e6194b', '#3cb44b', '#ffe119', '#4363d8', '#f58231', '#911eb4', '#46f0f0', '#f032e6',\n",
    "          '#bcf60c', '#fabebe', '#008080', '#e6beff', '#9a6324', '#fffac8', '#800000', '#aaffc3',\n",
    "          '#808000', '#ffd8b1', '#000075', '#808080']\n",
    "\n",
    "# build zip code nodes for selection on choropleth\n",
    "zipcode_nodes = dict(type='scattermapbox',\n",
    "                lat=lats, \n",
    "                lon=lons,  \n",
    "                mode='markers',\n",
    "                marker=dict(size=1),\n",
    "                showlegend=False,\n",
    "                hoverinfo='none'\n",
    "                )\n",
    "# build county map top layer for selected state\n",
    "layers=[dict(sourcetype = 'geojson',\n",
    "             source = counties_state_selected['dictionaries'].tolist()[i],  \n",
    "             below = 'water', \n",
    "             type = 'fill',\n",
    "             color = np.random.choice(colors, replace=True),\n",
    "             opacity=0.5\n",
    "            ) for i in range(len(counties_state_selected['dictionaries'].tolist()))]\n",
    "\n",
    "# build base map and zoom to selected state\n",
    "layout = dict(title=f'{state_selected} State Zip Code Selection Tool<br>for Disaster Income Loss', \n",
    "              font=dict(family='Balto'),\n",
    "              autosize=False,\n",
    "              width=800,\n",
    "              height=800,\n",
    "              hovermode='closest',\n",
    "   \n",
    "              mapbox=dict(accesstoken=mapbox_access_token,\n",
    "                          layers=layers,\n",
    "                          bearing=0,\n",
    "                          center=dict(\n",
    "                          lat=state_selected_lat, \n",
    "                          lon=state_selected_lon), \n",
    "                          pitch=0,\n",
    "                          zoom=5,\n",
    "                    ) \n",
    "              )\n",
    "# combine zip code nodes, county layer, and map into a figure\n",
    "fig = dict(data=[zipcode_nodes], layout=layout)\n",
    "\n",
    "# assign Figure Widget for interactions\n",
    "fw=go.FigureWidget(fig)\n",
    "choro = fw.data[0]\n",
    "\n",
    "\n",
    "# create table that displays estimated income loss by zipcode and updates based on state and zipcode selection\n",
    "t1 = go.FigureWidget([go.Table(\n",
    "     header=dict(values=['Affected ZIP Codes', 'Yearly Estimated Income Risk', 'Population', 'City', 'County'],\n",
    "                 fill = dict(color='#C2D4FF'),\n",
    "                 align = ['left'] * 5),\n",
    "     cells=dict(values=[income_state_selected['zipcode'],\n",
    "                       income_state_selected['tot_income'],\n",
    "                       income_state_selected['population'],\n",
    "                       income_state_selected['city'],\n",
    "                       income_state_selected['county']],\n",
    "                fill = dict(color='#F5F8FF'),\n",
    "                align = ['left'] * 5))])\n",
    "\n",
    "# create table that displays income loss based on industry/occupation and updates based on selection\n",
    "t2 = go.FigureWidget([go.Table(\n",
    "     header=dict(values=['Occupation', 'Total Employment', 'Portion', 'Average Hourly Rate', 'Average Annual Salary', \n",
    "                         '10th Percentile', '25th Percentile', 'Median', '75th Percentile', '90th Percentile'],\n",
    "                 fill = dict(color='#a1c3d1'),\n",
    "                 align = ['left'] * 5),\n",
    "     cells=dict(values=[industries_state_selected['occupation'],\n",
    "                        industries_state_selected['tot_employement'],\n",
    "                        industries_state_selected['perc'],\n",
    "                        industries_state_selected['h_mean'],\n",
    "                        industries_state_selected['annual_mean'],\n",
    "                        industries_state_selected['10'],\n",
    "                        industries_state_selected['25'],\n",
    "                        industries_state_selected['med'],\n",
    "                        industries_state_selected['75'],\n",
    "                        industries_state_selected['90']],\n",
    "                fill = dict(color='#EDFAFF'),\n",
    "                align = ['left'] * 5))])\n",
    "\n",
    "# initiate dictionary for data collection from user selection\n",
    "select = {}\n",
    "\n",
    "# update figure and table based on state selected in dropdown\n",
    "def update_state(state_list):\n",
    "    choro = fw.data[0]\n",
    "    \n",
    "    with fw.batch_update():\n",
    "        \n",
    "        # assign state selected from dropdown\n",
    "        state_selected = state_dropdown.kwargs['state_list']\n",
    "        \n",
    "        # updated dataframes and lists based on state selected\n",
    "        state_selected_lat = state_cent[state_selected]['lat']\n",
    "        state_selected_lon = state_cent[state_selected]['lon']\n",
    "        income_state_selected = income[income['state'] == state_selected].sort_values(by='zipcode').reset_index(drop=True)\n",
    "        industries_state_selected = industries[industries['state'] == state_selected]\n",
    "        counties_state_selected = counties[counties['states'] == state_selected]\n",
    "        \n",
    "        # initialize lat/lon of zip codes in CA\n",
    "        lats = income[income['state'] == state_selected]['lat']\n",
    "        lons = income[income['state'] == state_selected]['lon']\n",
    "        \n",
    "        # update zipcode nodes\n",
    "        choro['lat'] = lats\n",
    "        choro['lon'] = lons\n",
    "        \n",
    "        # update county map top layer\n",
    "        fw['layout']['mapbox']['layers'] = [dict(sourcetype = 'geojson',\n",
    "                                                 source = counties_state_selected['dictionaries'].tolist()[i],  \n",
    "                                                 below = 'water', \n",
    "                                                 type = 'fill',   \n",
    "                                                 color = np.random.choice(colors, replace=True),\n",
    "                                                 opacity=0.5\n",
    "                                                ) for i in range(len(counties_state_selected['dictionaries'].tolist()))]\n",
    "        \n",
    "        # update base map\n",
    "        fw['layout'] = dict(title=f'{state_selected} State Zip Code Selection Tool<br>for Disaster Income Loss',  \n",
    "                            font=dict(family='Balto'),\n",
    "                            autosize=False,\n",
    "                            width=800,\n",
    "                            height=800,\n",
    "                            hovermode='closest',\n",
    "\n",
    "                            mapbox=dict(accesstoken=mapbox_access_token,\n",
    "                                  layers=layers,\n",
    "                                  bearing=0,\n",
    "                                  center=dict(\n",
    "                                  lat=state_selected_lat, \n",
    "                                  lon=state_selected_lon), \n",
    "                                  pitch=0,\n",
    "                                  zoom=5,\n",
    "                                ) \n",
    "                            )\n",
    "        \n",
    "        # update table figures\n",
    "        t1.data[0]['cells']['values'] = (income_state_selected['zipcode'].tolist(),\n",
    "                                         income_state_selected['tot_income'].tolist(),\n",
    "                                         income_state_selected['population'].tolist(),\n",
    "                                         income_state_selected['city'].tolist(),\n",
    "                                         income_state_selected['county'].tolist())\n",
    "        \n",
    "        # update occupation table figures\n",
    "        t2.data[0]['cells']['values'] = (industries_state_selected['occupation'].tolist(),\n",
    "                                         industries_state_selected['tot_employement'].tolist(),\n",
    "                                         industries_state_selected['perc'].tolist(),\n",
    "                                         industries_state_selected['h_mean'].tolist(),\n",
    "                                         industries_state_selected['annual_mean'].tolist(),\n",
    "                                         industries_state_selected['10'].tolist(),\n",
    "                                         industries_state_selected['25'].tolist(),\n",
    "                                         industries_state_selected['med'].tolist(),\n",
    "                                         industries_state_selected['75'].tolist(),\n",
    "                                         industries_state_selected['90'])\n",
    "        \n",
    "        # define function for updates based on zipcode selection\n",
    "        def selection_fn(trace,points,selector):\n",
    "            t1.data[0].cells.values = [income_state_selected.loc[points.point_inds, col] \n",
    "                                       for col in ['zipcode', 'tot_income', 'population', 'city', 'county']]\n",
    "            select[0]=t1.data\n",
    "        \n",
    "        # execute zipcode selection event\n",
    "        choro.on_selection(selection_fn)\n",
    "\n",
    "# assign state dropdown interaction\n",
    "state_dropdown = interactive(update_state, state_list=sorted(state_cent.keys()))\n",
    "\n",
    "# auto layout in VBox and HBox\n",
    "VBox((HBox(state_dropdown.children),fw,t1, t2))"
   ]
  }
 ],
 "metadata": {
  "kernelspec": {
   "display_name": "Python [conda env:dsi]",
   "language": "python",
   "name": "conda-env-dsi-py"
  },
  "language_info": {
   "codemirror_mode": {
    "name": "ipython",
    "version": 3
   },
   "file_extension": ".py",
   "mimetype": "text/x-python",
   "name": "python",
   "nbconvert_exporter": "python",
   "pygments_lexer": "ipython3",
   "version": "3.6.5"
  }
 },
 "nbformat": 4,
 "nbformat_minor": 2
}
