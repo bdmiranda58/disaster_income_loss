{
 "cells": [
  {
   "cell_type": "markdown",
   "metadata": {},
   "source": [
    "#### Notebook Description\n",
    "\n",
    "\n",
    "## Index\n"
   ]
  },
  {
   "cell_type": "code",
   "execution_count": 54,
   "metadata": {},
   "outputs": [],
   "source": [
    "import pandas as pd\n",
    "import random"
   ]
  },
  {
   "cell_type": "code",
   "execution_count": 55,
   "metadata": {},
   "outputs": [],
   "source": [
    "df_incomes = pd.read_csv('./Data/zip_income_3col')\n",
    "df_incomes = df_incomes.drop('Unnamed: 0', axis=1)"
   ]
  },
  {
   "cell_type": "code",
   "execution_count": 56,
   "metadata": {},
   "outputs": [],
   "source": [
    "df_pops = pd.read_csv('./Data/pop-by-zip-code.csv')\n",
    "df_pops = df_pops[['zip_code', 'y-2016']]"
   ]
  },
  {
   "cell_type": "code",
   "execution_count": 89,
   "metadata": {},
   "outputs": [],
   "source": [
    "df_counties = pd.read_csv('./Data/zip_to_counties.csv')\n",
    "df_counties.drop(df_counties.columns[2:],axis=1,inplace = True)\n",
    "df_counties.columns = ['zipcode','county']\n",
    "df_counties['county'] = df_counties['county'].str.replace(' County','')"
   ]
  },
  {
   "cell_type": "markdown",
   "metadata": {},
   "source": [
    "#### Comparing datasets common zipcodes"
   ]
  },
  {
   "cell_type": "markdown",
   "metadata": {},
   "source": [
    "Taking a look on how many zip codes work on the whole dataframe, we have 9751 common ones with zip_to_counties. This could indicate that the zipcodes they have in common are important. "
   ]
  },
  {
   "cell_type": "code",
   "execution_count": 90,
   "metadata": {},
   "outputs": [],
   "source": [
    "no_in_pops = [i for i in df_incomes['zipcode'] if i not in df_pops['zip_code']]\n",
    "no_in_incomes = [i for i in df_pops['zip_code'] if i not in df_incomes['zipcode']]\n",
    "in_pops_and_incomes = [i for i in df_incomes['zipcode'] if i in df_pops['zip_code']]\n",
    "in_pops_incomes_and_counties = [i for i in df_counties['zipcode'] if i in in_both]"
   ]
  },
  {
   "cell_type": "code",
   "execution_count": 93,
   "metadata": {
    "scrolled": true
   },
   "outputs": [
    {
     "data": {
      "text/plain": [
       "(9842, 9751)"
      ]
     },
     "execution_count": 93,
     "metadata": {},
     "output_type": "execute_result"
    }
   ],
   "source": [
    "len(in_pops_and_incomes),len(set(in_pops_incomes_and_counties)) # set is because multiple counties per zip and vice versa"
   ]
  },
  {
   "cell_type": "code",
   "execution_count": 95,
   "metadata": {},
   "outputs": [],
   "source": [
    "def pick_random_working_zips(num):\n",
    "    return [commons_to_all[random.randint(1,len(commons_to_all))] for i in range(num)]"
   ]
  },
  {
   "cell_type": "code",
   "execution_count": 96,
   "metadata": {},
   "outputs": [
    {
     "data": {
      "text/plain": [
       "[30741, 8812, 29212, 20620, 12601]"
      ]
     },
     "execution_count": 96,
     "metadata": {},
     "output_type": "execute_result"
    }
   ],
   "source": [
    "pick_random_working_zips(5)"
   ]
  },
  {
   "cell_type": "markdown",
   "metadata": {},
   "source": [
    "### Input Zip Codes\n",
    "\n",
    "Get list of zip codes to return data from."
   ]
  },
  {
   "cell_type": "code",
   "execution_count": 82,
   "metadata": {
    "scrolled": true
   },
   "outputs": [
    {
     "name": "stdout",
     "output_type": "stream",
     "text": [
      "Enter zip codes for review.  When all are added, type done as input.\n",
      "Zip code: 15697\n",
      "Zip code: 27928\n",
      "Zip code: 23422\n",
      "Zip code: 8801\n",
      "Zip code: 28352\n",
      "Zip code: done\n"
     ]
    },
    {
     "data": {
      "text/html": [
       "<div>\n",
       "<style scoped>\n",
       "    .dataframe tbody tr th:only-of-type {\n",
       "        vertical-align: middle;\n",
       "    }\n",
       "\n",
       "    .dataframe tbody tr th {\n",
       "        vertical-align: top;\n",
       "    }\n",
       "\n",
       "    .dataframe thead th {\n",
       "        text-align: right;\n",
       "    }\n",
       "</style>\n",
       "<table border=\"1\" class=\"dataframe\">\n",
       "  <thead>\n",
       "    <tr style=\"text-align: right;\">\n",
       "      <th></th>\n",
       "      <th>zipcode</th>\n",
       "      <th>income</th>\n",
       "      <th>state</th>\n",
       "      <th>population</th>\n",
       "    </tr>\n",
       "  </thead>\n",
       "  <tbody>\n",
       "    <tr>\n",
       "      <th>0</th>\n",
       "      <td>15697.0</td>\n",
       "      <td>66792.0</td>\n",
       "      <td>PA</td>\n",
       "      <td>2940.0</td>\n",
       "    </tr>\n",
       "    <tr>\n",
       "      <th>1</th>\n",
       "      <td>27928.0</td>\n",
       "      <td>30942.0</td>\n",
       "      <td>NC</td>\n",
       "      <td>1888.0</td>\n",
       "    </tr>\n",
       "    <tr>\n",
       "      <th>2</th>\n",
       "      <td>23422.0</td>\n",
       "      <td>10304.0</td>\n",
       "      <td>VA</td>\n",
       "      <td>147.0</td>\n",
       "    </tr>\n",
       "    <tr>\n",
       "      <th>3</th>\n",
       "      <td>8801.0</td>\n",
       "      <td>548275.0</td>\n",
       "      <td>NJ</td>\n",
       "      <td>9104.0</td>\n",
       "    </tr>\n",
       "    <tr>\n",
       "      <th>4</th>\n",
       "      <td>28352.0</td>\n",
       "      <td>351279.0</td>\n",
       "      <td>NC</td>\n",
       "      <td>25851.0</td>\n",
       "    </tr>\n",
       "  </tbody>\n",
       "</table>\n",
       "</div>"
      ],
      "text/plain": [
       "   zipcode    income state  population\n",
       "0  15697.0   66792.0    PA      2940.0\n",
       "1  27928.0   30942.0    NC      1888.0\n",
       "2  23422.0   10304.0    VA       147.0\n",
       "3   8801.0  548275.0    NJ      9104.0\n",
       "4  28352.0  351279.0    NC     25851.0"
      ]
     },
     "execution_count": 82,
     "metadata": {},
     "output_type": "execute_result"
    }
   ],
   "source": [
    "output_dict = {'zipcode': {},\n",
    "               'income': {},\n",
    "               'state': {},\n",
    "               'population': {}}\n",
    "output_df = pd.DataFrame(output_dict)\n",
    "print('Enter zip codes for review.  When all are added, type done as input.')\n",
    "while True:\n",
    "    new_zip = input('Zip code: ')\n",
    "    if new_zip.lower() == 'done':\n",
    "        break\n",
    "    try:\n",
    "        output_df = output_df.append(df_incomes[(df_incomes.zipcode==int(new_zip))], sort=False)\n",
    "        pop = df_pops.loc[df_pops['zip_code'] == int(new_zip), ['y-2016']].values[0]\n",
    "        output_df.loc[output_df['zipcode'] == int(new_zip), ['population']] = pop\n",
    "    except:\n",
    "        print('Invalid zip code entered or database is missing information for this code.')\n",
    "output_df = output_df.reset_index(drop=True)\n",
    "output_df"
   ]
  },
  {
   "cell_type": "markdown",
   "metadata": {},
   "source": [
    "### Visualization\n",
    "\n",
    "Graphic to show which zip codes were selected."
   ]
  },
  {
   "cell_type": "code",
   "execution_count": null,
   "metadata": {},
   "outputs": [],
   "source": []
  },
  {
   "cell_type": "markdown",
   "metadata": {},
   "source": [
    "###  Analysis output\n",
    "1. Sum total income lost among all zip codes\n",
    "2. Sum total population affected\n",
    "3. List all states affected"
   ]
  },
  {
   "cell_type": "code",
   "execution_count": 83,
   "metadata": {},
   "outputs": [],
   "source": [
    "def summary(output):\n",
    "    print('average income per zip code : ' + str(int(output['income'].mean())))\n",
    "    print('median income per zip code : ' + str(output['income'].median()))\n",
    "    print('states concerned : ' + str(output['state'].unique()))\n",
    "    print('mean population per zip code : ' + str(int(output['population'].mean())))    \n",
    "    print('median population per zip code : ' + str(output['population'].median()))"
   ]
  },
  {
   "cell_type": "code",
   "execution_count": 84,
   "metadata": {},
   "outputs": [
    {
     "name": "stdout",
     "output_type": "stream",
     "text": [
      "average income per zip code : 201518\n",
      "median income per zip code : 66792.0\n",
      "states concerned : ['PA' 'NC' 'VA' 'NJ']\n",
      "mean population per zip code : 7986\n",
      "median population per zip code : 2940.0\n"
     ]
    }
   ],
   "source": [
    "summary(output_df)"
   ]
  },
  {
   "cell_type": "markdown",
   "metadata": {},
   "source": [
    "### Getting counties corresponding to each zip code"
   ]
  },
  {
   "cell_type": "code",
   "execution_count": 86,
   "metadata": {},
   "outputs": [],
   "source": [
    "def get_counties(output):\n",
    "    list_of_counties = [ list(zip_to_counties[zip_to_counties['zipcode'] == i]['county']) for i in output['zipcode'] ]\n",
    "    output['counties'] = list_of_counties"
   ]
  },
  {
   "cell_type": "code",
   "execution_count": 87,
   "metadata": {},
   "outputs": [],
   "source": [
    "get_counties(output_df)"
   ]
  },
  {
   "cell_type": "code",
   "execution_count": 88,
   "metadata": {},
   "outputs": [
    {
     "data": {
      "text/html": [
       "<div>\n",
       "<style scoped>\n",
       "    .dataframe tbody tr th:only-of-type {\n",
       "        vertical-align: middle;\n",
       "    }\n",
       "\n",
       "    .dataframe tbody tr th {\n",
       "        vertical-align: top;\n",
       "    }\n",
       "\n",
       "    .dataframe thead th {\n",
       "        text-align: right;\n",
       "    }\n",
       "</style>\n",
       "<table border=\"1\" class=\"dataframe\">\n",
       "  <thead>\n",
       "    <tr style=\"text-align: right;\">\n",
       "      <th></th>\n",
       "      <th>zipcode</th>\n",
       "      <th>income</th>\n",
       "      <th>state</th>\n",
       "      <th>population</th>\n",
       "      <th>counties</th>\n",
       "    </tr>\n",
       "  </thead>\n",
       "  <tbody>\n",
       "    <tr>\n",
       "      <th>0</th>\n",
       "      <td>15697.0</td>\n",
       "      <td>66792.0</td>\n",
       "      <td>PA</td>\n",
       "      <td>2940.0</td>\n",
       "      <td>[Westmoreland]</td>\n",
       "    </tr>\n",
       "    <tr>\n",
       "      <th>1</th>\n",
       "      <td>27928.0</td>\n",
       "      <td>30942.0</td>\n",
       "      <td>NC</td>\n",
       "      <td>1888.0</td>\n",
       "      <td>[Tyrrell, Washington]</td>\n",
       "    </tr>\n",
       "    <tr>\n",
       "      <th>2</th>\n",
       "      <td>23422.0</td>\n",
       "      <td>10304.0</td>\n",
       "      <td>VA</td>\n",
       "      <td>147.0</td>\n",
       "      <td>[Accomack]</td>\n",
       "    </tr>\n",
       "    <tr>\n",
       "      <th>3</th>\n",
       "      <td>8801.0</td>\n",
       "      <td>548275.0</td>\n",
       "      <td>NJ</td>\n",
       "      <td>9104.0</td>\n",
       "      <td>[Hunterdon]</td>\n",
       "    </tr>\n",
       "    <tr>\n",
       "      <th>4</th>\n",
       "      <td>28352.0</td>\n",
       "      <td>351279.0</td>\n",
       "      <td>NC</td>\n",
       "      <td>25851.0</td>\n",
       "      <td>[Scotland]</td>\n",
       "    </tr>\n",
       "  </tbody>\n",
       "</table>\n",
       "</div>"
      ],
      "text/plain": [
       "   zipcode    income state  population               counties\n",
       "0  15697.0   66792.0    PA      2940.0         [Westmoreland]\n",
       "1  27928.0   30942.0    NC      1888.0  [Tyrrell, Washington]\n",
       "2  23422.0   10304.0    VA       147.0             [Accomack]\n",
       "3   8801.0  548275.0    NJ      9104.0            [Hunterdon]\n",
       "4  28352.0  351279.0    NC     25851.0             [Scotland]"
      ]
     },
     "execution_count": 88,
     "metadata": {},
     "output_type": "execute_result"
    }
   ],
   "source": [
    "output_df"
   ]
  }
 ],
 "metadata": {
  "kernelspec": {
   "display_name": "Python [default]",
   "language": "python",
   "name": "python3"
  },
  "language_info": {
   "codemirror_mode": {
    "name": "ipython",
    "version": 3
   },
   "file_extension": ".py",
   "mimetype": "text/x-python",
   "name": "python",
   "nbconvert_exporter": "python",
   "pygments_lexer": "ipython3",
   "version": "3.6.5"
  }
 },
 "nbformat": 4,
 "nbformat_minor": 2
}
