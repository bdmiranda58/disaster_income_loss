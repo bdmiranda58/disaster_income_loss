{
 "cells": [
  {
   "cell_type": "markdown",
   "metadata": {},
   "source": [
    "___________\n",
    "## Clean zipcode_database.csv"
   ]
  },
  {
   "cell_type": "code",
   "execution_count": 1,
   "metadata": {},
   "outputs": [],
   "source": [
    "import pandas as pd"
   ]
  },
  {
   "cell_type": "code",
   "execution_count": 2,
   "metadata": {},
   "outputs": [],
   "source": [
    "longlat_df = pd.read_csv('./Data/zipcode_database.csv')"
   ]
  },
  {
   "cell_type": "code",
   "execution_count": 3,
   "metadata": {},
   "outputs": [
    {
     "data": {
      "text/html": [
       "<div>\n",
       "<style scoped>\n",
       "    .dataframe tbody tr th:only-of-type {\n",
       "        vertical-align: middle;\n",
       "    }\n",
       "\n",
       "    .dataframe tbody tr th {\n",
       "        vertical-align: top;\n",
       "    }\n",
       "\n",
       "    .dataframe thead th {\n",
       "        text-align: right;\n",
       "    }\n",
       "</style>\n",
       "<table border=\"1\" class=\"dataframe\">\n",
       "  <thead>\n",
       "    <tr style=\"text-align: right;\">\n",
       "      <th></th>\n",
       "      <th>Zipcode</th>\n",
       "      <th>ZipCodeType</th>\n",
       "      <th>City</th>\n",
       "      <th>State</th>\n",
       "      <th>LocationType</th>\n",
       "      <th>Lat</th>\n",
       "      <th>Long</th>\n",
       "      <th>Location</th>\n",
       "      <th>Decommisioned</th>\n",
       "      <th>TaxReturnsFiled</th>\n",
       "      <th>EstimatedPopulation</th>\n",
       "      <th>TotalWages</th>\n",
       "    </tr>\n",
       "  </thead>\n",
       "  <tbody>\n",
       "    <tr>\n",
       "      <th>0</th>\n",
       "      <td>705</td>\n",
       "      <td>STANDARD</td>\n",
       "      <td>AIBONITO</td>\n",
       "      <td>PR</td>\n",
       "      <td>PRIMARY</td>\n",
       "      <td>18.14</td>\n",
       "      <td>-66.26</td>\n",
       "      <td>NA-US-PR-AIBONITO</td>\n",
       "      <td>False</td>\n",
       "      <td>NaN</td>\n",
       "      <td>NaN</td>\n",
       "      <td>NaN</td>\n",
       "    </tr>\n",
       "    <tr>\n",
       "      <th>1</th>\n",
       "      <td>610</td>\n",
       "      <td>STANDARD</td>\n",
       "      <td>ANASCO</td>\n",
       "      <td>PR</td>\n",
       "      <td>PRIMARY</td>\n",
       "      <td>18.28</td>\n",
       "      <td>-67.14</td>\n",
       "      <td>NA-US-PR-ANASCO</td>\n",
       "      <td>False</td>\n",
       "      <td>NaN</td>\n",
       "      <td>NaN</td>\n",
       "      <td>NaN</td>\n",
       "    </tr>\n",
       "    <tr>\n",
       "      <th>2</th>\n",
       "      <td>611</td>\n",
       "      <td>PO BOX</td>\n",
       "      <td>ANGELES</td>\n",
       "      <td>PR</td>\n",
       "      <td>PRIMARY</td>\n",
       "      <td>18.28</td>\n",
       "      <td>-66.79</td>\n",
       "      <td>NA-US-PR-ANGELES</td>\n",
       "      <td>False</td>\n",
       "      <td>NaN</td>\n",
       "      <td>NaN</td>\n",
       "      <td>NaN</td>\n",
       "    </tr>\n",
       "    <tr>\n",
       "      <th>3</th>\n",
       "      <td>612</td>\n",
       "      <td>STANDARD</td>\n",
       "      <td>ARECIBO</td>\n",
       "      <td>PR</td>\n",
       "      <td>PRIMARY</td>\n",
       "      <td>18.45</td>\n",
       "      <td>-66.73</td>\n",
       "      <td>NA-US-PR-ARECIBO</td>\n",
       "      <td>False</td>\n",
       "      <td>NaN</td>\n",
       "      <td>NaN</td>\n",
       "      <td>NaN</td>\n",
       "    </tr>\n",
       "    <tr>\n",
       "      <th>4</th>\n",
       "      <td>601</td>\n",
       "      <td>STANDARD</td>\n",
       "      <td>ADJUNTAS</td>\n",
       "      <td>PR</td>\n",
       "      <td>PRIMARY</td>\n",
       "      <td>18.16</td>\n",
       "      <td>-66.72</td>\n",
       "      <td>NA-US-PR-ADJUNTAS</td>\n",
       "      <td>False</td>\n",
       "      <td>NaN</td>\n",
       "      <td>NaN</td>\n",
       "      <td>NaN</td>\n",
       "    </tr>\n",
       "  </tbody>\n",
       "</table>\n",
       "</div>"
      ],
      "text/plain": [
       "   Zipcode ZipCodeType      City State LocationType    Lat   Long  \\\n",
       "0      705    STANDARD  AIBONITO    PR      PRIMARY  18.14 -66.26   \n",
       "1      610    STANDARD    ANASCO    PR      PRIMARY  18.28 -67.14   \n",
       "2      611      PO BOX   ANGELES    PR      PRIMARY  18.28 -66.79   \n",
       "3      612    STANDARD   ARECIBO    PR      PRIMARY  18.45 -66.73   \n",
       "4      601    STANDARD  ADJUNTAS    PR      PRIMARY  18.16 -66.72   \n",
       "\n",
       "            Location  Decommisioned  TaxReturnsFiled  EstimatedPopulation  \\\n",
       "0  NA-US-PR-AIBONITO          False              NaN                  NaN   \n",
       "1    NA-US-PR-ANASCO          False              NaN                  NaN   \n",
       "2   NA-US-PR-ANGELES          False              NaN                  NaN   \n",
       "3   NA-US-PR-ARECIBO          False              NaN                  NaN   \n",
       "4  NA-US-PR-ADJUNTAS          False              NaN                  NaN   \n",
       "\n",
       "   TotalWages  \n",
       "0         NaN  \n",
       "1         NaN  \n",
       "2         NaN  \n",
       "3         NaN  \n",
       "4         NaN  "
      ]
     },
     "execution_count": 3,
     "metadata": {},
     "output_type": "execute_result"
    }
   ],
   "source": [
    "longlat_df.head()"
   ]
  },
  {
   "cell_type": "code",
   "execution_count": 4,
   "metadata": {},
   "outputs": [],
   "source": [
    "longlat_df.drop(columns=['TotalWages','EstimatedPopulation','TaxReturnsFiled','Location'], inplace=True)"
   ]
  },
  {
   "cell_type": "code",
   "execution_count": 5,
   "metadata": {},
   "outputs": [],
   "source": [
    "longlat_df = longlat_df[longlat_df['Decommisioned']==False]"
   ]
  },
  {
   "cell_type": "code",
   "execution_count": 6,
   "metadata": {},
   "outputs": [
    {
     "data": {
      "text/html": [
       "<div>\n",
       "<style scoped>\n",
       "    .dataframe tbody tr th:only-of-type {\n",
       "        vertical-align: middle;\n",
       "    }\n",
       "\n",
       "    .dataframe tbody tr th {\n",
       "        vertical-align: top;\n",
       "    }\n",
       "\n",
       "    .dataframe thead th {\n",
       "        text-align: right;\n",
       "    }\n",
       "</style>\n",
       "<table border=\"1\" class=\"dataframe\">\n",
       "  <thead>\n",
       "    <tr style=\"text-align: right;\">\n",
       "      <th></th>\n",
       "      <th>Zipcode</th>\n",
       "      <th>ZipCodeType</th>\n",
       "      <th>City</th>\n",
       "      <th>State</th>\n",
       "      <th>LocationType</th>\n",
       "      <th>Lat</th>\n",
       "      <th>Long</th>\n",
       "      <th>Decommisioned</th>\n",
       "    </tr>\n",
       "  </thead>\n",
       "  <tbody>\n",
       "    <tr>\n",
       "      <th>0</th>\n",
       "      <td>705</td>\n",
       "      <td>STANDARD</td>\n",
       "      <td>AIBONITO</td>\n",
       "      <td>PR</td>\n",
       "      <td>PRIMARY</td>\n",
       "      <td>18.14</td>\n",
       "      <td>-66.26</td>\n",
       "      <td>False</td>\n",
       "    </tr>\n",
       "    <tr>\n",
       "      <th>1</th>\n",
       "      <td>610</td>\n",
       "      <td>STANDARD</td>\n",
       "      <td>ANASCO</td>\n",
       "      <td>PR</td>\n",
       "      <td>PRIMARY</td>\n",
       "      <td>18.28</td>\n",
       "      <td>-67.14</td>\n",
       "      <td>False</td>\n",
       "    </tr>\n",
       "    <tr>\n",
       "      <th>2</th>\n",
       "      <td>611</td>\n",
       "      <td>PO BOX</td>\n",
       "      <td>ANGELES</td>\n",
       "      <td>PR</td>\n",
       "      <td>PRIMARY</td>\n",
       "      <td>18.28</td>\n",
       "      <td>-66.79</td>\n",
       "      <td>False</td>\n",
       "    </tr>\n",
       "    <tr>\n",
       "      <th>3</th>\n",
       "      <td>612</td>\n",
       "      <td>STANDARD</td>\n",
       "      <td>ARECIBO</td>\n",
       "      <td>PR</td>\n",
       "      <td>PRIMARY</td>\n",
       "      <td>18.45</td>\n",
       "      <td>-66.73</td>\n",
       "      <td>False</td>\n",
       "    </tr>\n",
       "    <tr>\n",
       "      <th>4</th>\n",
       "      <td>601</td>\n",
       "      <td>STANDARD</td>\n",
       "      <td>ADJUNTAS</td>\n",
       "      <td>PR</td>\n",
       "      <td>PRIMARY</td>\n",
       "      <td>18.16</td>\n",
       "      <td>-66.72</td>\n",
       "      <td>False</td>\n",
       "    </tr>\n",
       "  </tbody>\n",
       "</table>\n",
       "</div>"
      ],
      "text/plain": [
       "   Zipcode ZipCodeType      City State LocationType    Lat   Long  \\\n",
       "0      705    STANDARD  AIBONITO    PR      PRIMARY  18.14 -66.26   \n",
       "1      610    STANDARD    ANASCO    PR      PRIMARY  18.28 -67.14   \n",
       "2      611      PO BOX   ANGELES    PR      PRIMARY  18.28 -66.79   \n",
       "3      612    STANDARD   ARECIBO    PR      PRIMARY  18.45 -66.73   \n",
       "4      601    STANDARD  ADJUNTAS    PR      PRIMARY  18.16 -66.72   \n",
       "\n",
       "   Decommisioned  \n",
       "0          False  \n",
       "1          False  \n",
       "2          False  \n",
       "3          False  \n",
       "4          False  "
      ]
     },
     "execution_count": 6,
     "metadata": {},
     "output_type": "execute_result"
    }
   ],
   "source": [
    "longlat_df.head()"
   ]
  },
  {
   "cell_type": "code",
   "execution_count": 7,
   "metadata": {},
   "outputs": [],
   "source": [
    "longlat_df.drop(columns=['LocationType','Decommisioned'], inplace=True)"
   ]
  },
  {
   "cell_type": "code",
   "execution_count": 8,
   "metadata": {},
   "outputs": [
    {
     "data": {
      "text/html": [
       "<div>\n",
       "<style scoped>\n",
       "    .dataframe tbody tr th:only-of-type {\n",
       "        vertical-align: middle;\n",
       "    }\n",
       "\n",
       "    .dataframe tbody tr th {\n",
       "        vertical-align: top;\n",
       "    }\n",
       "\n",
       "    .dataframe thead th {\n",
       "        text-align: right;\n",
       "    }\n",
       "</style>\n",
       "<table border=\"1\" class=\"dataframe\">\n",
       "  <thead>\n",
       "    <tr style=\"text-align: right;\">\n",
       "      <th></th>\n",
       "      <th>Zipcode</th>\n",
       "      <th>ZipCodeType</th>\n",
       "      <th>City</th>\n",
       "      <th>State</th>\n",
       "      <th>Lat</th>\n",
       "      <th>Long</th>\n",
       "    </tr>\n",
       "  </thead>\n",
       "  <tbody>\n",
       "    <tr>\n",
       "      <th>0</th>\n",
       "      <td>705</td>\n",
       "      <td>STANDARD</td>\n",
       "      <td>AIBONITO</td>\n",
       "      <td>PR</td>\n",
       "      <td>18.14</td>\n",
       "      <td>-66.26</td>\n",
       "    </tr>\n",
       "    <tr>\n",
       "      <th>1</th>\n",
       "      <td>610</td>\n",
       "      <td>STANDARD</td>\n",
       "      <td>ANASCO</td>\n",
       "      <td>PR</td>\n",
       "      <td>18.28</td>\n",
       "      <td>-67.14</td>\n",
       "    </tr>\n",
       "    <tr>\n",
       "      <th>2</th>\n",
       "      <td>611</td>\n",
       "      <td>PO BOX</td>\n",
       "      <td>ANGELES</td>\n",
       "      <td>PR</td>\n",
       "      <td>18.28</td>\n",
       "      <td>-66.79</td>\n",
       "    </tr>\n",
       "    <tr>\n",
       "      <th>3</th>\n",
       "      <td>612</td>\n",
       "      <td>STANDARD</td>\n",
       "      <td>ARECIBO</td>\n",
       "      <td>PR</td>\n",
       "      <td>18.45</td>\n",
       "      <td>-66.73</td>\n",
       "    </tr>\n",
       "    <tr>\n",
       "      <th>4</th>\n",
       "      <td>601</td>\n",
       "      <td>STANDARD</td>\n",
       "      <td>ADJUNTAS</td>\n",
       "      <td>PR</td>\n",
       "      <td>18.16</td>\n",
       "      <td>-66.72</td>\n",
       "    </tr>\n",
       "  </tbody>\n",
       "</table>\n",
       "</div>"
      ],
      "text/plain": [
       "   Zipcode ZipCodeType      City State    Lat   Long\n",
       "0      705    STANDARD  AIBONITO    PR  18.14 -66.26\n",
       "1      610    STANDARD    ANASCO    PR  18.28 -67.14\n",
       "2      611      PO BOX   ANGELES    PR  18.28 -66.79\n",
       "3      612    STANDARD   ARECIBO    PR  18.45 -66.73\n",
       "4      601    STANDARD  ADJUNTAS    PR  18.16 -66.72"
      ]
     },
     "execution_count": 8,
     "metadata": {},
     "output_type": "execute_result"
    }
   ],
   "source": [
    "longlat_df.head()"
   ]
  },
  {
   "cell_type": "code",
   "execution_count": 9,
   "metadata": {},
   "outputs": [
    {
     "data": {
      "text/plain": [
       "STANDARD    29808\n",
       "PO BOX       9394\n",
       "UNIQUE       2115\n",
       "MILITARY      542\n",
       "Name: ZipCodeType, dtype: int64"
      ]
     },
     "execution_count": 9,
     "metadata": {},
     "output_type": "execute_result"
    }
   ],
   "source": [
    "longlat_df['ZipCodeType'].value_counts()"
   ]
  },
  {
   "cell_type": "code",
   "execution_count": 10,
   "metadata": {},
   "outputs": [],
   "source": [
    "longlat_df = longlat_df[longlat_df['ZipCodeType'] != 'PO BOX']"
   ]
  },
  {
   "cell_type": "code",
   "execution_count": 11,
   "metadata": {},
   "outputs": [
    {
     "data": {
      "text/html": [
       "<div>\n",
       "<style scoped>\n",
       "    .dataframe tbody tr th:only-of-type {\n",
       "        vertical-align: middle;\n",
       "    }\n",
       "\n",
       "    .dataframe tbody tr th {\n",
       "        vertical-align: top;\n",
       "    }\n",
       "\n",
       "    .dataframe thead th {\n",
       "        text-align: right;\n",
       "    }\n",
       "</style>\n",
       "<table border=\"1\" class=\"dataframe\">\n",
       "  <thead>\n",
       "    <tr style=\"text-align: right;\">\n",
       "      <th></th>\n",
       "      <th>Zipcode</th>\n",
       "      <th>ZipCodeType</th>\n",
       "      <th>City</th>\n",
       "      <th>State</th>\n",
       "      <th>Lat</th>\n",
       "      <th>Long</th>\n",
       "    </tr>\n",
       "  </thead>\n",
       "  <tbody>\n",
       "    <tr>\n",
       "      <th>0</th>\n",
       "      <td>705</td>\n",
       "      <td>STANDARD</td>\n",
       "      <td>AIBONITO</td>\n",
       "      <td>PR</td>\n",
       "      <td>18.14</td>\n",
       "      <td>-66.26</td>\n",
       "    </tr>\n",
       "    <tr>\n",
       "      <th>1</th>\n",
       "      <td>610</td>\n",
       "      <td>STANDARD</td>\n",
       "      <td>ANASCO</td>\n",
       "      <td>PR</td>\n",
       "      <td>18.28</td>\n",
       "      <td>-67.14</td>\n",
       "    </tr>\n",
       "    <tr>\n",
       "      <th>3</th>\n",
       "      <td>612</td>\n",
       "      <td>STANDARD</td>\n",
       "      <td>ARECIBO</td>\n",
       "      <td>PR</td>\n",
       "      <td>18.45</td>\n",
       "      <td>-66.73</td>\n",
       "    </tr>\n",
       "    <tr>\n",
       "      <th>4</th>\n",
       "      <td>601</td>\n",
       "      <td>STANDARD</td>\n",
       "      <td>ADJUNTAS</td>\n",
       "      <td>PR</td>\n",
       "      <td>18.16</td>\n",
       "      <td>-66.72</td>\n",
       "    </tr>\n",
       "    <tr>\n",
       "      <th>6</th>\n",
       "      <td>602</td>\n",
       "      <td>STANDARD</td>\n",
       "      <td>AGUADA</td>\n",
       "      <td>PR</td>\n",
       "      <td>18.38</td>\n",
       "      <td>-67.18</td>\n",
       "    </tr>\n",
       "  </tbody>\n",
       "</table>\n",
       "</div>"
      ],
      "text/plain": [
       "   Zipcode ZipCodeType      City State    Lat   Long\n",
       "0      705    STANDARD  AIBONITO    PR  18.14 -66.26\n",
       "1      610    STANDARD    ANASCO    PR  18.28 -67.14\n",
       "3      612    STANDARD   ARECIBO    PR  18.45 -66.73\n",
       "4      601    STANDARD  ADJUNTAS    PR  18.16 -66.72\n",
       "6      602    STANDARD    AGUADA    PR  18.38 -67.18"
      ]
     },
     "execution_count": 11,
     "metadata": {},
     "output_type": "execute_result"
    }
   ],
   "source": [
    "longlat_df.head()"
   ]
  },
  {
   "cell_type": "code",
   "execution_count": 12,
   "metadata": {},
   "outputs": [
    {
     "data": {
      "text/plain": [
       "58"
      ]
     },
     "execution_count": 12,
     "metadata": {},
     "output_type": "execute_result"
    }
   ],
   "source": [
    "len(longlat_df['State'].unique())"
   ]
  },
  {
   "cell_type": "code",
   "execution_count": 13,
   "metadata": {},
   "outputs": [
    {
     "data": {
      "text/plain": [
       "array(['PR', 'NJ', 'NY', 'AE', 'VI', 'MA', 'ME', 'NH', 'VT', 'CT', 'RI',\n",
       "       'DE', 'PA', 'WV', 'KY', 'TN', 'VA', 'GA', 'IN', 'OH', 'IL', 'IA',\n",
       "       'MN', 'WI', 'MT', 'ND', 'SD', 'KS', 'MO', 'NE', 'CO', 'WY', 'ID',\n",
       "       'UT', 'AZ', 'NM', 'TX', 'CA', 'NV', 'OR', 'WA', 'AK', 'GU', 'HI',\n",
       "       'PW', 'FL', 'SC', 'AL', 'MS', 'LA', 'AR', 'OK', 'MI', 'DC', 'MD',\n",
       "       'NC', 'AA', 'AP'], dtype=object)"
      ]
     },
     "execution_count": 13,
     "metadata": {},
     "output_type": "execute_result"
    }
   ],
   "source": [
    "longlat_df['State'].unique()"
   ]
  },
  {
   "cell_type": "code",
   "execution_count": 14,
   "metadata": {},
   "outputs": [],
   "source": [
    "terr_list = ['AA','AE','PR','GU','PW','AP','VI']"
   ]
  },
  {
   "cell_type": "code",
   "execution_count": 15,
   "metadata": {},
   "outputs": [],
   "source": [
    "for terr in terr_list:\n",
    "    longlat_df.drop(index=longlat_df[longlat_df['State'] == terr].index, inplace=True)"
   ]
  },
  {
   "cell_type": "code",
   "execution_count": 16,
   "metadata": {},
   "outputs": [
    {
     "data": {
      "text/plain": [
       "51"
      ]
     },
     "execution_count": 16,
     "metadata": {},
     "output_type": "execute_result"
    }
   ],
   "source": [
    "len(longlat_df['State'].unique())"
   ]
  },
  {
   "cell_type": "code",
   "execution_count": 17,
   "metadata": {},
   "outputs": [
    {
     "data": {
      "text/plain": [
       "array(['STANDARD', 'UNIQUE'], dtype=object)"
      ]
     },
     "execution_count": 17,
     "metadata": {},
     "output_type": "execute_result"
    }
   ],
   "source": [
    "longlat_df['ZipCodeType'].unique()"
   ]
  },
  {
   "cell_type": "code",
   "execution_count": 18,
   "metadata": {},
   "outputs": [],
   "source": [
    "longlat_df.drop(columns='ZipCodeType', inplace=True)"
   ]
  },
  {
   "cell_type": "code",
   "execution_count": 19,
   "metadata": {},
   "outputs": [],
   "source": [
    "longlat_df.reset_index(drop=True, inplace=True)"
   ]
  },
  {
   "cell_type": "code",
   "execution_count": 20,
   "metadata": {},
   "outputs": [
    {
     "data": {
      "text/html": [
       "<div>\n",
       "<style scoped>\n",
       "    .dataframe tbody tr th:only-of-type {\n",
       "        vertical-align: middle;\n",
       "    }\n",
       "\n",
       "    .dataframe tbody tr th {\n",
       "        vertical-align: top;\n",
       "    }\n",
       "\n",
       "    .dataframe thead th {\n",
       "        text-align: right;\n",
       "    }\n",
       "</style>\n",
       "<table border=\"1\" class=\"dataframe\">\n",
       "  <thead>\n",
       "    <tr style=\"text-align: right;\">\n",
       "      <th></th>\n",
       "      <th>Zipcode</th>\n",
       "      <th>City</th>\n",
       "      <th>State</th>\n",
       "      <th>Lat</th>\n",
       "      <th>Long</th>\n",
       "    </tr>\n",
       "  </thead>\n",
       "  <tbody>\n",
       "    <tr>\n",
       "      <th>0</th>\n",
       "      <td>7675</td>\n",
       "      <td>WESTWOOD</td>\n",
       "      <td>NJ</td>\n",
       "      <td>40.98</td>\n",
       "      <td>-74.03</td>\n",
       "    </tr>\n",
       "    <tr>\n",
       "      <th>1</th>\n",
       "      <td>7677</td>\n",
       "      <td>WOODCLIFF LAKE</td>\n",
       "      <td>NJ</td>\n",
       "      <td>41.02</td>\n",
       "      <td>-74.05</td>\n",
       "    </tr>\n",
       "    <tr>\n",
       "      <th>2</th>\n",
       "      <td>7885</td>\n",
       "      <td>WHARTON</td>\n",
       "      <td>NJ</td>\n",
       "      <td>40.89</td>\n",
       "      <td>-74.58</td>\n",
       "    </tr>\n",
       "    <tr>\n",
       "      <th>3</th>\n",
       "      <td>7981</td>\n",
       "      <td>WHIPPANY</td>\n",
       "      <td>NJ</td>\n",
       "      <td>40.82</td>\n",
       "      <td>-74.41</td>\n",
       "    </tr>\n",
       "    <tr>\n",
       "      <th>4</th>\n",
       "      <td>7999</td>\n",
       "      <td>WHIPPANY</td>\n",
       "      <td>NJ</td>\n",
       "      <td>40.82</td>\n",
       "      <td>-74.41</td>\n",
       "    </tr>\n",
       "  </tbody>\n",
       "</table>\n",
       "</div>"
      ],
      "text/plain": [
       "   Zipcode            City State    Lat   Long\n",
       "0     7675        WESTWOOD    NJ  40.98 -74.03\n",
       "1     7677  WOODCLIFF LAKE    NJ  41.02 -74.05\n",
       "2     7885         WHARTON    NJ  40.89 -74.58\n",
       "3     7981        WHIPPANY    NJ  40.82 -74.41\n",
       "4     7999        WHIPPANY    NJ  40.82 -74.41"
      ]
     },
     "execution_count": 20,
     "metadata": {},
     "output_type": "execute_result"
    }
   ],
   "source": [
    "longlat_df.head()"
   ]
  },
  {
   "cell_type": "code",
   "execution_count": 21,
   "metadata": {},
   "outputs": [
    {
     "data": {
      "text/plain": [
       "Zipcode    0\n",
       "City       0\n",
       "State      0\n",
       "Lat        0\n",
       "Long       0\n",
       "dtype: int64"
      ]
     },
     "execution_count": 21,
     "metadata": {},
     "output_type": "execute_result"
    }
   ],
   "source": [
    "longlat_df.isna().sum()"
   ]
  },
  {
   "cell_type": "code",
   "execution_count": 22,
   "metadata": {},
   "outputs": [],
   "source": [
    "longlat_df.to_csv('./Data/zipcode_database_condensed.csv', index=False)"
   ]
  }
 ],
 "metadata": {
  "kernelspec": {
   "display_name": "Python [conda env:dsi]",
   "language": "python",
   "name": "conda-env-dsi-py"
  },
  "language_info": {
   "codemirror_mode": {
    "name": "ipython",
    "version": 3
   },
   "file_extension": ".py",
   "mimetype": "text/x-python",
   "name": "python",
   "nbconvert_exporter": "python",
   "pygments_lexer": "ipython3",
   "version": "3.6.5"
  }
 },
 "nbformat": 4,
 "nbformat_minor": 2
}
